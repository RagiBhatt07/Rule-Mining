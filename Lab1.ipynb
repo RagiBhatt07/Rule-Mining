{
 "cells": [
  {
   "cell_type": "code",
   "execution_count": 1,
   "metadata": {},
   "outputs": [],
   "source": [
    "import pandas as pd\n",
    "import numpy as np\n",
    "import matplotlib.pyplot as plt"
   ]
  },
  {
   "cell_type": "code",
   "execution_count": 13,
   "metadata": {},
   "outputs": [],
   "source": [
    "#Reading the Query 1\n",
    "\n",
    "query1 = pd.read_csv('Query1.csv')\n",
    "query2 = pd.read_csv('Query2.csv')\n",
    "query3 = pd.read_csv('Query3.csv')"
   ]
  },
  {
   "cell_type": "markdown",
   "metadata": {},
   "source": [
    "## Part 1: Quality Measure Computation of Rules\n",
    "\n",
    "Given a set of Horn rules that are assumed to be discovered by an automatic tool using quality measures such as support, head-coverage, and confidence, here's a reminder of how these measures can be computed for a given rule in the form \\(\\vec{B} \\rightarrow r(x, y)\\):\n",
    "\n",
    "- **Support** (\\(supp(\\vec{B} \\rightarrow r(x, y))\\)) is defined as: \n",
    "  \\[\n",
    "  supp(\\vec{B} \\rightarrow r(x, y)) := \\#\\{(x, y) : \\exists z_1, ..., z_m : \\vec{B} \\land r(x, y)\\}\n",
    "  \\]\n",
    "\n",
    "- **Head-Coverage** (\\(hc(\\vec{B} \\rightarrow r(x, y))\\)) is defined as: \n",
    "  \\[\n",
    "  hc(\\vec{B} \\rightarrow r(x, y)) := \\frac{supp(\\vec{B} \\rightarrow r(x, y))}{\\#\\{(x, y) : r(x, y)\\}}\n",
    "  \\]\n",
    "\n",
    "- **Confidence** (\\(conf(\\vec{B} \\rightarrow r(x, y))\\)) is defined as: \n",
    "  \\[\n",
    "  conf(\\vec{B} \\rightarrow r(x, y)) := \\frac{supp(\\vec{B} \\rightarrow r(x, y))}{\\#\\{(x, y) : \\exists z_1, ..., z_m : \\vec{B}\\}}\n",
    "  \\]\n",
    "\n",
    "### Considered Rules\n",
    "\n",
    "Let's consider the following rules \\(r_1\\), \\(r_2\\), and \\(r_3\\) where the atoms predicate(x, y) are written as \\((?x\\ \\text{predicate}\\ ?y)\\):\n",
    "\n",
    "- **r1**: \\( (?a\\ \\text{nationality}\\ ?b) \\Rightarrow (?a\\ \\text{deathPlace}\\ ?b) \\)\n",
    "- **r2**: \\( (?a\\ \\text{birthPlace}\\ ?b) \\land (?a\\ \\text{country}\\ ?b) \\Rightarrow (?a\\ \\text{deathPlace}\\ ?b) \\)\n",
    "- **r3**: \\( (?a\\ \\text{child}\\ ?h) \\land (?h\\ \\text{parent}\\ ?b) \\Rightarrow (?a\\ \\text{spouse}\\ ?b) \\)\n"
   ]
  },
  {
   "cell_type": "code",
   "execution_count": 8,
   "metadata": {},
   "outputs": [
    {
     "data": {
      "text/html": [
       "<div>\n",
       "<style scoped>\n",
       "    .dataframe tbody tr th:only-of-type {\n",
       "        vertical-align: middle;\n",
       "    }\n",
       "\n",
       "    .dataframe tbody tr th {\n",
       "        vertical-align: top;\n",
       "    }\n",
       "\n",
       "    .dataframe thead th {\n",
       "        text-align: right;\n",
       "    }\n",
       "</style>\n",
       "<table border=\"1\" class=\"dataframe\">\n",
       "  <thead>\n",
       "    <tr style=\"text-align: right;\">\n",
       "      <th></th>\n",
       "      <th>writerNameLabel</th>\n",
       "      <th>birthPlaceLabel</th>\n",
       "      <th>nationalityLabel</th>\n",
       "      <th>deathPlaceLabel</th>\n",
       "    </tr>\n",
       "  </thead>\n",
       "  <tbody>\n",
       "    <tr>\n",
       "      <th>0</th>\n",
       "      <td>Robert Zend</td>\n",
       "      <td>Budapest</td>\n",
       "      <td>Hungarian-Canadian</td>\n",
       "      <td>Canada</td>\n",
       "    </tr>\n",
       "    <tr>\n",
       "      <th>1</th>\n",
       "      <td>Robert Zend</td>\n",
       "      <td>Kingdom of Hungary (1920-1946)</td>\n",
       "      <td>Hungarian-Canadian</td>\n",
       "      <td>Canada</td>\n",
       "    </tr>\n",
       "    <tr>\n",
       "      <th>2</th>\n",
       "      <td>Bruce Alistair McKelvie</td>\n",
       "      <td>Canada</td>\n",
       "      <td>Canadians</td>\n",
       "      <td>Canada</td>\n",
       "    </tr>\n",
       "    <tr>\n",
       "      <th>3</th>\n",
       "      <td>Leona Florentino</td>\n",
       "      <td>Captaincy General of the Philippines</td>\n",
       "      <td>Ilocano people</td>\n",
       "      <td>Captaincy General of the Philippines</td>\n",
       "    </tr>\n",
       "    <tr>\n",
       "      <th>4</th>\n",
       "      <td>Aziz Ahmad (writer)</td>\n",
       "      <td>Hyderabad</td>\n",
       "      <td>Pakistani</td>\n",
       "      <td>Canada</td>\n",
       "    </tr>\n",
       "  </tbody>\n",
       "</table>\n",
       "</div>"
      ],
      "text/plain": [
       "           writerNameLabel                       birthPlaceLabel  \\\n",
       "0              Robert Zend                              Budapest   \n",
       "1              Robert Zend        Kingdom of Hungary (1920-1946)   \n",
       "2  Bruce Alistair McKelvie                                Canada   \n",
       "3         Leona Florentino  Captaincy General of the Philippines   \n",
       "4      Aziz Ahmad (writer)                             Hyderabad   \n",
       "\n",
       "     nationalityLabel                       deathPlaceLabel  \n",
       "0  Hungarian-Canadian                                Canada  \n",
       "1  Hungarian-Canadian                                Canada  \n",
       "2           Canadians                                Canada  \n",
       "3      Ilocano people  Captaincy General of the Philippines  \n",
       "4           Pakistani                                Canada  "
      ]
     },
     "execution_count": 8,
     "metadata": {},
     "output_type": "execute_result"
    }
   ],
   "source": [
    "query1.head()"
   ]
  },
  {
   "cell_type": "code",
   "execution_count": 14,
   "metadata": {},
   "outputs": [
    {
     "data": {
      "text/html": [
       "<div>\n",
       "<style scoped>\n",
       "    .dataframe tbody tr th:only-of-type {\n",
       "        vertical-align: middle;\n",
       "    }\n",
       "\n",
       "    .dataframe tbody tr th {\n",
       "        vertical-align: top;\n",
       "    }\n",
       "\n",
       "    .dataframe thead th {\n",
       "        text-align: right;\n",
       "    }\n",
       "</style>\n",
       "<table border=\"1\" class=\"dataframe\">\n",
       "  <thead>\n",
       "    <tr style=\"text-align: right;\">\n",
       "      <th></th>\n",
       "      <th>writerName</th>\n",
       "      <th>birthPlaceLabel</th>\n",
       "      <th>nationality</th>\n",
       "      <th>country</th>\n",
       "      <th>deathPlaceLabel</th>\n",
       "    </tr>\n",
       "  </thead>\n",
       "  <tbody>\n",
       "    <tr>\n",
       "      <th>0</th>\n",
       "      <td>Caleb Whitefoord</td>\n",
       "      <td>Edinburgh</td>\n",
       "      <td>Scottish</td>\n",
       "      <td>Scotland</td>\n",
       "      <td>London</td>\n",
       "    </tr>\n",
       "    <tr>\n",
       "      <th>1</th>\n",
       "      <td>Caleb Whitefoord</td>\n",
       "      <td>Edinburgh</td>\n",
       "      <td>Scottish</td>\n",
       "      <td>United Kingdom</td>\n",
       "      <td>London</td>\n",
       "    </tr>\n",
       "    <tr>\n",
       "      <th>2</th>\n",
       "      <td>Carol Fenner</td>\n",
       "      <td>North Hornell, New York</td>\n",
       "      <td>American</td>\n",
       "      <td>United States</td>\n",
       "      <td>Battle Creek, Michigan</td>\n",
       "    </tr>\n",
       "    <tr>\n",
       "      <th>3</th>\n",
       "      <td>Amelia Perrier</td>\n",
       "      <td>Cork (city)</td>\n",
       "      <td>http://dbpedia.org/resource/United_Kingdom_of_...</td>\n",
       "      <td>Ireland</td>\n",
       "      <td>Sussex</td>\n",
       "    </tr>\n",
       "    <tr>\n",
       "      <th>4</th>\n",
       "      <td>Carola Prosperi</td>\n",
       "      <td>Turin</td>\n",
       "      <td>http://dbpedia.org/resource/Italy</td>\n",
       "      <td>Italy</td>\n",
       "      <td>Turin</td>\n",
       "    </tr>\n",
       "  </tbody>\n",
       "</table>\n",
       "</div>"
      ],
      "text/plain": [
       "         writerName          birthPlaceLabel  \\\n",
       "0  Caleb Whitefoord                Edinburgh   \n",
       "1  Caleb Whitefoord                Edinburgh   \n",
       "2      Carol Fenner  North Hornell, New York   \n",
       "3    Amelia Perrier              Cork (city)   \n",
       "4   Carola Prosperi                    Turin   \n",
       "\n",
       "                                         nationality         country  \\\n",
       "0                                           Scottish        Scotland   \n",
       "1                                           Scottish  United Kingdom   \n",
       "2                                           American   United States   \n",
       "3  http://dbpedia.org/resource/United_Kingdom_of_...         Ireland   \n",
       "4                  http://dbpedia.org/resource/Italy           Italy   \n",
       "\n",
       "          deathPlaceLabel  \n",
       "0                  London  \n",
       "1                  London  \n",
       "2  Battle Creek, Michigan  \n",
       "3                  Sussex  \n",
       "4                   Turin  "
      ]
     },
     "execution_count": 14,
     "metadata": {},
     "output_type": "execute_result"
    }
   ],
   "source": [
    "query2.head()"
   ]
  },
  {
   "cell_type": "code",
   "execution_count": 16,
   "metadata": {},
   "outputs": [
    {
     "data": {
      "text/html": [
       "<div>\n",
       "<style scoped>\n",
       "    .dataframe tbody tr th:only-of-type {\n",
       "        vertical-align: middle;\n",
       "    }\n",
       "\n",
       "    .dataframe tbody tr th {\n",
       "        vertical-align: top;\n",
       "    }\n",
       "\n",
       "    .dataframe thead th {\n",
       "        text-align: right;\n",
       "    }\n",
       "</style>\n",
       "<table border=\"1\" class=\"dataframe\">\n",
       "  <thead>\n",
       "    <tr style=\"text-align: right;\">\n",
       "      <th></th>\n",
       "      <th>writerName</th>\n",
       "      <th>childLabel</th>\n",
       "      <th>parentLabel</th>\n",
       "      <th>spouseLabel</th>\n",
       "    </tr>\n",
       "  </thead>\n",
       "  <tbody>\n",
       "    <tr>\n",
       "      <th>0</th>\n",
       "      <td>Caitlin Thomas</td>\n",
       "      <td>Aeronwy Thomas</td>\n",
       "      <td>Caitlin Thomas</td>\n",
       "      <td>Dylan Thomas</td>\n",
       "    </tr>\n",
       "    <tr>\n",
       "      <th>1</th>\n",
       "      <td>Dylan Thomas</td>\n",
       "      <td>Aeronwy Thomas</td>\n",
       "      <td>Caitlin Thomas</td>\n",
       "      <td>Caitlin Thomas</td>\n",
       "    </tr>\n",
       "    <tr>\n",
       "      <th>2</th>\n",
       "      <td>Qi Xin</td>\n",
       "      <td>Xi Yuanping</td>\n",
       "      <td>Qi Xin</td>\n",
       "      <td>Xi Zhongxun</td>\n",
       "    </tr>\n",
       "    <tr>\n",
       "      <th>3</th>\n",
       "      <td>Julia Rush Cutler Ward</td>\n",
       "      <td>Samuel Ward (lobbyist)</td>\n",
       "      <td>Samuel Ward (banker)</td>\n",
       "      <td>Samuel Ward (banker)</td>\n",
       "    </tr>\n",
       "    <tr>\n",
       "      <th>4</th>\n",
       "      <td>Rabindranath Tagore</td>\n",
       "      <td>Rathindranath Tagore</td>\n",
       "      <td>Mrinalini Devi</td>\n",
       "      <td>Mrinalini Devi</td>\n",
       "    </tr>\n",
       "    <tr>\n",
       "      <th>5</th>\n",
       "      <td>Henrik Ibsen</td>\n",
       "      <td>Sigurd Ibsen</td>\n",
       "      <td>Suzannah Thoresen</td>\n",
       "      <td>Suzannah Thoresen</td>\n",
       "    </tr>\n",
       "    <tr>\n",
       "      <th>6</th>\n",
       "      <td>Barry Shipman</td>\n",
       "      <td>Nina Shipman</td>\n",
       "      <td>Barry Shipman</td>\n",
       "      <td>Gwynne Shipman</td>\n",
       "    </tr>\n",
       "    <tr>\n",
       "      <th>7</th>\n",
       "      <td>Belkis Cuza Malé</td>\n",
       "      <td>Ernesto Padilla</td>\n",
       "      <td>Belkis Cuza Malé</td>\n",
       "      <td>Heberto Padilla</td>\n",
       "    </tr>\n",
       "    <tr>\n",
       "      <th>8</th>\n",
       "      <td>Nalini Prava Deka</td>\n",
       "      <td>Jim Ankan Deka</td>\n",
       "      <td>Bhabananda Deka</td>\n",
       "      <td>Bhabananda Deka</td>\n",
       "    </tr>\n",
       "    <tr>\n",
       "      <th>9</th>\n",
       "      <td>Gail Omvedt</td>\n",
       "      <td>Prachi Patankar</td>\n",
       "      <td>Bharat Patankar</td>\n",
       "      <td>Bharat Patankar</td>\n",
       "    </tr>\n",
       "  </tbody>\n",
       "</table>\n",
       "</div>"
      ],
      "text/plain": [
       "               writerName              childLabel           parentLabel  \\\n",
       "0          Caitlin Thomas          Aeronwy Thomas        Caitlin Thomas   \n",
       "1            Dylan Thomas          Aeronwy Thomas        Caitlin Thomas   \n",
       "2                  Qi Xin             Xi Yuanping                Qi Xin   \n",
       "3  Julia Rush Cutler Ward  Samuel Ward (lobbyist)  Samuel Ward (banker)   \n",
       "4     Rabindranath Tagore    Rathindranath Tagore        Mrinalini Devi   \n",
       "5            Henrik Ibsen            Sigurd Ibsen     Suzannah Thoresen   \n",
       "6           Barry Shipman            Nina Shipman         Barry Shipman   \n",
       "7        Belkis Cuza Malé         Ernesto Padilla      Belkis Cuza Malé   \n",
       "8       Nalini Prava Deka          Jim Ankan Deka       Bhabananda Deka   \n",
       "9             Gail Omvedt         Prachi Patankar       Bharat Patankar   \n",
       "\n",
       "            spouseLabel  \n",
       "0          Dylan Thomas  \n",
       "1        Caitlin Thomas  \n",
       "2           Xi Zhongxun  \n",
       "3  Samuel Ward (banker)  \n",
       "4        Mrinalini Devi  \n",
       "5     Suzannah Thoresen  \n",
       "6        Gwynne Shipman  \n",
       "7       Heberto Padilla  \n",
       "8       Bhabananda Deka  \n",
       "9       Bharat Patankar  "
      ]
     },
     "execution_count": 16,
     "metadata": {},
     "output_type": "execute_result"
    }
   ],
   "source": [
    "query3.head(10)"
   ]
  },
  {
   "cell_type": "markdown",
   "metadata": {},
   "source": [
    "## Calculating Metrics"
   ]
  },
  {
   "cell_type": "markdown",
   "metadata": {},
   "source": [
    ">Let consider the following rules r1, r2 and r3 where the atoms predicate(x, y) are written as (?x\n",
    "predicate ?y):\n",
    "\n",
    "    • r1: (?a nationality ?b) => (?a deathPlace ?b)\n"
   ]
  },
  {
   "cell_type": "code",
   "execution_count": 29,
   "metadata": {},
   "outputs": [],
   "source": [
    "#Convert the data query1 into a list of dictionaries\n",
    "query1_data = query1.to_dict(orient='records')\n",
    "query2_data = query2.to_dict(orient='records')\n",
    "query3_data = query3.to_dict(orient='records')"
   ]
  },
  {
   "cell_type": "code",
   "execution_count": 34,
   "metadata": {},
   "outputs": [],
   "source": [
    "def calculate_metrics_for_rule_1(data):\n",
    "    \"\"\"\n",
    "    Calculate support, head coverage, and confidence for rule 1:\n",
    "    A person's nationality is the same as their place of death.\n",
    "    \n",
    "    Parameters:\n",
    "    - data: List of dictionaries, each representing an instance with nationality and deathPlace attributes.\n",
    "    \n",
    "    Returns:\n",
    "    - A dictionary with support, head coverage, and confidence metrics.\n",
    "    \"\"\"\n",
    "    # Initialize counters\n",
    "    support = 0  # Instances where nationality matches deathPlace\n",
    "    total_nationality = 0  # Instances with a specified nationality\n",
    "    total_deathPlace = 0  # Instances with a specified deathPlace\n",
    "    \n",
    "    for instance in data:\n",
    "        has_nationality = 'nationalityLabel' in instance and instance['nationalityLabel']\n",
    "        has_deathPlace = 'deathPlaceLabel' in instance and instance['deathPlaceLabel']\n",
    "        \n",
    "        if has_nationality:\n",
    "            total_nationality += 1\n",
    "        if has_deathPlace:\n",
    "            total_deathPlace += 1\n",
    "        if has_nationality and has_deathPlace and instance['nationalityLabel'] == instance['deathPlaceLabel']:\n",
    "            support += 1\n",
    "    \n",
    "    # Calculate metrics\n",
    "    head_coverage = support / total_deathPlace if total_deathPlace > 0 else 0\n",
    "    confidence = support / total_nationality if total_nationality > 0 else 0\n",
    "    \n",
    "    return {\n",
    "        'support': support,\n",
    "        'head_coverage': head_coverage,\n",
    "        'confidence': confidence\n",
    "    }"
   ]
  },
  {
   "cell_type": "code",
   "execution_count": 37,
   "metadata": {},
   "outputs": [
    {
     "name": "stdout",
     "output_type": "stream",
     "text": [
      "The metrics for rule 1 are:\n",
      "{'support': 227, 'head_coverage': 0.13243873978996498, 'confidence': 0.13243873978996498}\n"
     ]
    }
   ],
   "source": [
    "data = query1_data\n",
    "\n",
    "metrics = calculate_metrics_for_rule_1(data)\n",
    "print(\"The metrics for rule 1 are:\")\n",
    "print(metrics)\n"
   ]
  },
  {
   "cell_type": "markdown",
   "metadata": {},
   "source": [
    ">r2: (?a birthPlace ?b) and (?a country ?b) => (?a deathPlace ?b)\n"
   ]
  },
  {
   "cell_type": "code",
   "execution_count": 40,
   "metadata": {},
   "outputs": [],
   "source": [
    "def calculate_metrics_for_rule_2(data):\n",
    "    \"\"\"\n",
    "    Calculate support, head coverage, and confidence for rule 2:\n",
    "    A person's birthPlace and country are the same, and this matches their place of death.\n",
    "    \n",
    "    Parameters:\n",
    "    - data: List of dictionaries, each representing an instance with birthPlace, country, and deathPlace attributes.\n",
    "    \n",
    "    Returns:\n",
    "    - A dictionary with support, head coverage, and confidence metrics.\n",
    "    \"\"\"\n",
    "    # Initialize counters\n",
    "    support = 0  # Instances where birthPlace and country match deathPlace\n",
    "    total_conditions_met = 0  # Instances where birthPlace matches country\n",
    "    total_deathPlace = 0  # Instances with a specified deathPlace\n",
    "    \n",
    "    for instance in data:\n",
    "        has_birthPlace = 'birthPlaceLabel' in instance and instance['birthPlaceLabel']\n",
    "        has_country = 'country' in instance and instance['country']\n",
    "        has_deathPlace = 'deathPlaceLabel' in instance and instance['deathPlaceLabel']\n",
    "        \n",
    "        if has_deathPlace:\n",
    "            total_deathPlace += 1\n",
    "        if has_birthPlace and has_country and instance['birthPlaceLabel'] == instance['country']:\n",
    "            total_conditions_met += 1\n",
    "            if has_deathPlace and instance['birthPlaceLabel'] == instance['deathPlaceLabel']:\n",
    "                support += 1\n",
    "    \n",
    "    # Calculate metrics\n",
    "    head_coverage = support / total_deathPlace if total_deathPlace > 0 else 0\n",
    "    confidence = support / total_conditions_met if total_conditions_met > 0 else 0\n",
    "    \n",
    "    return {\n",
    "        'support': support,\n",
    "        'head_coverage': head_coverage,\n",
    "        'confidence': confidence\n",
    "    }\n",
    "\n",
    "\n"
   ]
  },
  {
   "cell_type": "code",
   "execution_count": 41,
   "metadata": {},
   "outputs": [
    {
     "name": "stdout",
     "output_type": "stream",
     "text": [
      "The metrics for rule 2 are:\n",
      "{'support': 23, 'head_coverage': 0.03576982892690513, 'confidence': 0.40350877192982454}\n"
     ]
    }
   ],
   "source": [
    "data = query2_data\n",
    "\n",
    "metrics = calculate_metrics_for_rule_2(data)\n",
    "print(\"The metrics for rule 2 are:\")\n",
    "print(metrics)"
   ]
  },
  {
   "cell_type": "markdown",
   "metadata": {},
   "source": [
    ">Rule 3 ::: r3: (?a child ?h) and (?h parent ?b) => (?a spouse ?b)"
   ]
  },
  {
   "cell_type": "code",
   "execution_count": 46,
   "metadata": {},
   "outputs": [],
   "source": [
    "# Support Calculation\n",
    "support = query3.apply(lambda row: row['parentLabel'] == row['spouseLabel'], axis=1).sum()\n",
    "\n",
    "# Head Coverage Calculation\n",
    "# For head coverage, we need the total instances where a spouse is identified\n",
    "total_spouse_instances = query3['spouseLabel'].notna().sum()\n",
    "\n",
    "# Confidence Calculation\n",
    "# For confidence, we consider instances where a child and an identified other parent exist\n",
    "total_body_instances = query3.apply(lambda row: pd.notna(row['childLabel']) and pd.notna(row['parentLabel']), axis=1).sum()\n",
    "\n",
    "head_coverage = support / total_spouse_instances if total_spouse_instances > 0 else 0\n",
    "confidence = support / total_body_instances if total_body_instances > 0 else 0\n"
   ]
  },
  {
   "cell_type": "code",
   "execution_count": 47,
   "metadata": {},
   "outputs": [
    {
     "name": "stdout",
     "output_type": "stream",
     "text": [
      "Metrics for rule 3:\n",
      "Support: 104\n",
      "Head Coverage: 0.3837638376383764\n",
      "Confidence: 0.3837638376383764\n"
     ]
    }
   ],
   "source": [
    "# Print the metrics\n",
    "print(f\"Metrics for rule 3:\")\n",
    "print(f\"Support: {support}\")\n",
    "print(f\"Head Coverage: {head_coverage}\")\n",
    "print(f\"Confidence: {confidence}\")"
   ]
  },
  {
   "cell_type": "markdown",
   "metadata": {},
   "source": [
    "## Part 2 AMIE Results - Analysis\n",
    "\n",
    "Analyse the results and observe the results of some rules that are obtained and compare the\n",
    "obtained measures (support, HC and PCA-confidence) especially for the three used rules in\n",
    "part 1.\n"
   ]
  },
  {
   "cell_type": "markdown",
   "metadata": {},
   "source": [
    "Consider these rules from the Film dataset\n",
    "\n",
    ">Rule: 1 db:name  ?a  ?g  db:runtime  ?b   => ?a  db:runtime  ?b\t0.050075643\t0.995488722\t662\t665\t-1\n",
    "\n",
    ">Rule 2: ?g  db:name  ?a  ?g  db:writer  ?b   => ?a  db:director  ?b\t0.024831527\t0.395104895\t339\t858\t-1\n",
    "\n",
    ">Rule: 3 ?h  db:director  ?b  ?a  db:name  ?h   => ?a  db:director  ?b\t0.050395546\t0.995658466\t688\t691\t-1"
   ]
  },
  {
   "cell_type": "markdown",
   "metadata": {},
   "source": [
    "Analysis: \n",
    "\n",
    "The rules 1 and 3 exhibit high confidence (~0.995). Meaning that, the observed pattern with an entity is true.\n",
    "\n",
    "- Rule 1 interprets that if an entity ?a has a db:name relation with any value ?g and there exists a db:runtime relation with the value ?b, then ?a has a db:runtime of ?b directly. However, there are limited number of instances where 'runtime' can be applied.\n",
    "\n",
    "- Rule 2 interprets that if an entity ?g is associated with ?a through db:name and ?g is also associated with ?b through db:writer, then ?a is likely to have a db:director relation with ?b. The confidence is extremely low, suggesting that entities like this are very rare in the dataset.\n",
    "\n",
    "- Rule 3 indicates that if an entity ?h is a db:director of ?b, and ?a has a db:name relation with ?h, then ?a is also a db:director of ?b. The high confidence makes it more reliable."
   ]
  }
 ],
 "metadata": {
  "kernelspec": {
   "display_name": "lol",
   "language": "python",
   "name": "python3"
  },
  "language_info": {
   "codemirror_mode": {
    "name": "ipython",
    "version": 3
   },
   "file_extension": ".py",
   "mimetype": "text/x-python",
   "name": "python",
   "nbconvert_exporter": "python",
   "pygments_lexer": "ipython3",
   "version": "3.10.9"
  }
 },
 "nbformat": 4,
 "nbformat_minor": 2
}
